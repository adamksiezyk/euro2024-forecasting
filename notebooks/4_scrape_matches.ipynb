{
 "cells": [
  {
   "cell_type": "code",
   "execution_count": 14,
   "id": "a65fdf67-895e-430c-9acc-b949dee14625",
   "metadata": {},
   "outputs": [
    {
     "name": "stdout",
     "output_type": "stream",
     "text": [
      "--2024-06-17 10:56:54--  https://storage.googleapis.com/chrome-for-testing-public/126.0.6478.61/linux64/chromedriver-linux64.zip\n",
      "Resolving storage.googleapis.com (storage.googleapis.com)... 216.58.206.91, 142.250.186.123, 142.250.186.59, ...\n",
      "Connecting to storage.googleapis.com (storage.googleapis.com)|216.58.206.91|:443... connected.\n",
      "HTTP request sent, awaiting response... 200 OK\n",
      "Length: 8771919 (8.4M) [application/zip]\n",
      "Saving to: ‘../bin/chromedriver-linux64.zip’\n",
      "\n",
      "../bin/chromedriver 100%[===================>]   8.37M  32.8MB/s    in 0.3s    \n",
      "\n",
      "2024-06-17 10:56:54 (32.8 MB/s) - ‘../bin/chromedriver-linux64.zip’ saved [8771919/8771919]\n",
      "\n"
     ]
    }
   ],
   "source": [
    "![ -d ../bin/chromedriver-linux64 ] \\\n",
    "    || wget -qq -O ../bin/chromedriver-linux64.zip https://storage.googleapis.com/chrome-for-testing-public/126.0.6478.61/linux64/chromedriver-linux64.zip \\\n",
    "    && unzip -q ../bin/chromedriver-linux64.zip -d ../bin \\\n",
    "    && rm ../bin/chromedriver-linux64.zip"
   ]
  },
  {
   "cell_type": "code",
   "execution_count": 20,
   "id": "8275d979-5608-4c8d-81cf-edd4a01af8af",
   "metadata": {},
   "outputs": [],
   "source": [
    "![ -d ../bin/chrome-headless-shell-linux64 ] \\\n",
    "    || wget -qq -O ../bin/chrome-headless-shell-linux64.zip https://storage.googleapis.com/chrome-for-testing-public/126.0.6478.61/linux64/chrome-headless-shell-linux64.zip \\\n",
    "    && unzip -q ../bin/chrome-headless-shell-linux64.zip -d ../bin \\\n",
    "    && rm ../bin/chrome-headless-shell-linux64.zip"
   ]
  },
  {
   "cell_type": "code",
   "execution_count": 117,
   "id": "911e0eb6-9cf6-43fa-96c3-ec85179cfd42",
   "metadata": {},
   "outputs": [],
   "source": [
    "import bs4\n",
    "import numpy as np\n",
    "import pandas as pd\n",
    "import time\n",
    "\n",
    "from selenium import webdriver"
   ]
  },
  {
   "cell_type": "code",
   "execution_count": 118,
   "id": "d11abda8-602c-4a51-8824-afe277faf347",
   "metadata": {},
   "outputs": [],
   "source": [
    "options = webdriver.ChromeOptions()\n",
    "options.binary_location = \"../bin/chrome-headless-shell-linux64/chrome-headless-shell\"\n",
    "options.add_argument(\"--no-sandbox\")\n",
    "service = webdriver.ChromeService(executable_path=\"../bin/chromedriver-linux64/chromedriver\")\n",
    "driver = webdriver.Chrome(service=service, options=options)\n",
    "driver.get(\"https://www.flashscore.com/team/poland/2HzmcynI/\");\n",
    "time.sleep(1) # Let JS load"
   ]
  },
  {
   "cell_type": "code",
   "execution_count": 119,
   "id": "1c16a5f0-a770-406c-a5a1-1576c69ae4d3",
   "metadata": {},
   "outputs": [],
   "source": [
    "soup = bs4.BeautifulSoup(driver.page_source)"
   ]
  },
  {
   "cell_type": "code",
   "execution_count": 120,
   "id": "363c184d-ced6-454b-84d1-35cbdb96ec40",
   "metadata": {},
   "outputs": [],
   "source": [
    "driver.quit()"
   ]
  },
  {
   "cell_type": "code",
   "execution_count": 121,
   "id": "e998d1bd-ae95-44e6-967d-ca8b0258e1ef",
   "metadata": {},
   "outputs": [],
   "source": [
    "matches = soup.find_all(class_=\"event__match\")"
   ]
  },
  {
   "cell_type": "code",
   "execution_count": 122,
   "id": "88eb61f0-06cd-4533-996f-8da82eed21f1",
   "metadata": {},
   "outputs": [
    {
     "data": {
      "text/plain": [
       "<div class=\"event__match event__match--withRowLink event__match--static event__match--last event__match--twoLine\" id=\"g_1_vwtfSsT6\"><a aria-describedby=\"g_1_vwtfSsT6\" class=\"eventRowLink\" href=\"https://www.flashscore.com/match/vwtfSsT6/#/match-summary\" rel=\"nofollow\" target=\"_blank\" title=\"Click for match detail!\"></a><span class=\"event__check--hidden\"></span><div class=\"event__time\">16.06. 13:00</div><div class=\"_participant_x6lwl_4 event__homeParticipant\" data-testid=\"wcl-matchRow-participant\"><img alt=\"Poland\" class=\"_assetContainer_1nfae_4 _logo_10fi9_4 _sizeXXS_1nfae_18\" data-testid=\"wcl-assetContainerBoxFree-XXS\" loading=\"eager\" src=\"https://static.flashscore.com/res/image/data/hKm3dvB6-vZG58BBc.png\"/><span class=\"_simpleText_zfz11_4 _webTypeSimpleText01_zfz11_8 _name_x6lwl_17\" data-testid=\"wcl-scores-simpleText1\">Poland</span></div><div class=\"_participant_x6lwl_4 event__awayParticipant\" data-testid=\"wcl-matchRow-participant\"><img alt=\"Netherlands\" class=\"_assetContainer_1nfae_4 _logo_10fi9_4 _sizeXXS_1nfae_18\" data-testid=\"wcl-assetContainerBoxFree-XXS\" loading=\"eager\" src=\"https://static.flashscore.com/res/image/data/MkxaoTAN-fazrR153.png\"/><strong class=\"_simpleText_zfz11_4 _webTypeSimpleText01_zfz11_8 _bold_zfz11_57 _name_x6lwl_17\" data-testid=\"wcl-scores-simpleText1\">Netherlands</strong></div><div class=\"event__score event__score--home\">1</div><div class=\"event__score event__score--away\">2</div><button class=\"_badgeform_1waia_4 _lose_1waia_39 _clickable_1waia_131 formIcon__lastMatches\" data-testid=\"wcl-badgeForm-lose\" title=\"Loss\"><span class=\"_simpleText_zfz11_4 _webTypeSimpleText01_zfz11_8\" data-testid=\"wcl-scores-simpleText1\">L</span></button></div>"
      ]
     },
     "execution_count": 122,
     "metadata": {},
     "output_type": "execute_result"
    }
   ],
   "source": [
    "match = matches[0]\n",
    "match"
   ]
  },
  {
   "cell_type": "code",
   "execution_count": 136,
   "id": "505e3779-72e7-4b04-8742-2adf3098ec9e",
   "metadata": {},
   "outputs": [],
   "source": [
    "def parse_match(match: bs4.BeautifulSoup) -> tuple[np.datetime64, str, str, str]:\n",
    "    # If penalties, remove suffix\n",
    "    datetime = match.find(class_=\"event__time\").text.lower().removesuffix(\"pen\").split()\n",
    "    # Check if date-only\n",
    "    if len(datetime) == 1:\n",
    "        datetime = pd.to_datetime(datetime[0], dayfirst=True)\n",
    "    else:\n",
    "        date, time = datetime\n",
    "        date = date.split('.')\n",
    "        # Check if year is present\n",
    "        if not date[2]:\n",
    "            date[2] = str(dt.date.today().year)\n",
    "        datetime = pd.to_datetime('.'.join(date) + ' ' + time, dayfirst=True)\n",
    "\n",
    "    home_participant = match.find(class_=\"event__homeParticipant\")\n",
    "    home_participant = (home_participant.find(\"strong\") or home_participant.find(\"span\")).text.lower().strip()\n",
    "    away_participant = match.find(class_=\"event__awayParticipant\")\n",
    "    away_participant = (away_participant.find(\"strong\") or away_participant.find(\"span\")).text.lower().strip()\n",
    "\n",
    "    href = match.find(\"a\").get(\"href\")\n",
    "    url = urllib.parse.urlparse(href)\n",
    "    url = url._replace(netloc=\"m.flashscore.com\", fragment='')\n",
    "    new_href = url.geturl()\n",
    "    \n",
    "    return datetime, home_participant, away_participant, new_href"
   ]
  },
  {
   "cell_type": "code",
   "execution_count": 137,
   "id": "2fc417ab-5c78-4550-9279-439dcfa414d9",
   "metadata": {},
   "outputs": [
    {
     "data": {
      "text/plain": [
       "(Timestamp('2024-03-26 19:45:00'),\n",
       " 'wales',\n",
       " 'poland',\n",
       " 'https://m.flashscore.com/match/bTFTAeY8/')"
      ]
     },
     "execution_count": 137,
     "metadata": {},
     "output_type": "execute_result"
    }
   ],
   "source": [
    "parse_match(matches[3])"
   ]
  }
 ],
 "metadata": {
  "kernelspec": {
   "display_name": "euro2024",
   "language": "python",
   "name": "euro2024"
  },
  "language_info": {
   "codemirror_mode": {
    "name": "ipython",
    "version": 3
   },
   "file_extension": ".py",
   "mimetype": "text/x-python",
   "name": "python",
   "nbconvert_exporter": "python",
   "pygments_lexer": "ipython3",
   "version": "3.11.8"
  }
 },
 "nbformat": 4,
 "nbformat_minor": 5
}
