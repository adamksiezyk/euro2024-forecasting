{
 "cells": [
  {
   "cell_type": "code",
   "execution_count": 32,
   "id": "a65fdf67-895e-430c-9acc-b949dee14625",
   "metadata": {},
   "outputs": [],
   "source": [
    "![ -f ../bin/chrome-linux64 ] \\\n",
    "    || wget -qq -O ../bin/chrome-linux64.zip https://storage.googleapis.com/chrome-for-testing-public/114.0.5735.90/linux64/chrome-linux64.zip \\\n",
    "    && unzip -q ../bin/chrome-linux64.zip -d ../bin \\\n",
    "    && rm ../bin/chrome-linux64.zip"
   ]
  },
  {
   "cell_type": "code",
   "execution_count": 3,
   "id": "911e0eb6-9cf6-43fa-96c3-ec85179cfd42",
   "metadata": {},
   "outputs": [],
   "source": [
    "import bs4\n",
    "import httpx\n",
    "\n",
    "from selenium import webdriver"
   ]
  },
  {
   "cell_type": "code",
   "execution_count": 5,
   "id": "d11abda8-602c-4a51-8824-afe277faf347",
   "metadata": {},
   "outputs": [
    {
     "ename": "TypeError",
     "evalue": "WebDriver.__init__() got an unexpected keyword argument 'executable_path'",
     "output_type": "error",
     "traceback": [
      "\u001b[0;31m---------------------------------------------------------------------------\u001b[0m",
      "\u001b[0;31mTypeError\u001b[0m                                 Traceback (most recent call last)",
      "Cell \u001b[0;32mIn[5], line 1\u001b[0m\n\u001b[0;32m----> 1\u001b[0m driver \u001b[38;5;241m=\u001b[39m \u001b[43mwebdriver\u001b[49m\u001b[38;5;241;43m.\u001b[39;49m\u001b[43mChrome\u001b[49m\u001b[43m(\u001b[49m\u001b[43mexecutable_path\u001b[49m\u001b[38;5;241;43m=\u001b[39;49m\u001b[38;5;124;43m\"\u001b[39;49m\u001b[38;5;124;43m../bin/chrome-linux64/\u001b[39;49m\u001b[38;5;124;43m\"\u001b[39;49m\u001b[43m)\u001b[49m\n\u001b[1;32m      2\u001b[0m driver\u001b[38;5;241m.\u001b[39mget(\u001b[38;5;124m\"\u001b[39m\u001b[38;5;124mhttps://www.flashscore.com/team/germany/ptQide1O/results/\u001b[39m\u001b[38;5;124m\"\u001b[39m);\n\u001b[1;32m      3\u001b[0m time\u001b[38;5;241m.\u001b[39msleep(\u001b[38;5;241m5\u001b[39m) \u001b[38;5;66;03m# Let the user actually see something!\u001b[39;00m\n",
      "\u001b[0;31mTypeError\u001b[0m: WebDriver.__init__() got an unexpected keyword argument 'executable_path'"
     ]
    }
   ],
   "source": [
    "driver = webdriver.Chrome(executable_path=\"../bin/chrome-linux64/\")\n",
    "driver.get(\"https://www.flashscore.com/team/germany/ptQide1O/results/\");\n",
    "time.sleep(5) # Let the user actually see something!"
   ]
  },
  {
   "cell_type": "code",
   "execution_count": null,
   "id": "c11d5692-823a-4768-8589-e5fba57dcfc0",
   "metadata": {},
   "outputs": [],
   "source": [
    "search_box = driver.find_element_by_name('q')\n",
    "search_box.send_keys('ChromeDriver')\n",
    "search_box.submit()\n",
    "time.sleep(5) # Let the user actually see something!\n",
    "driver.quit()"
   ]
  },
  {
   "cell_type": "code",
   "execution_count": 3,
   "id": "e31f1509-c5df-4ac4-95fc-b456afd8eeeb",
   "metadata": {},
   "outputs": [],
   "source": [
    "res = httpx.get(\"https://www.flashscore.com/team/germany/ptQide1O/results/\")"
   ]
  },
  {
   "cell_type": "code",
   "execution_count": 4,
   "id": "61433677-bb12-4a8d-a4c6-515602fb2a18",
   "metadata": {},
   "outputs": [],
   "source": [
    "soup = bs4.BeautifulSoup(res.text)"
   ]
  },
  {
   "cell_type": "code",
   "execution_count": 5,
   "id": "10391ab7-aa5f-4226-bf5e-e2c9f1fe5f98",
   "metadata": {},
   "outputs": [],
   "source": [
    "results = soup.find(\"div\", class_=\"leagues--static event--leagues results\")"
   ]
  },
  {
   "cell_type": "code",
   "execution_count": 11,
   "id": "1f9af3c4-38a1-4beb-a10a-66527cd6832d",
   "metadata": {},
   "outputs": [],
   "source": [
    "with open(\"index.html\", \"w\") as f:\n",
    "    f.write(str(soup))"
   ]
  },
  {
   "cell_type": "code",
   "execution_count": 7,
   "id": "690373eb-dab7-4d23-a2ed-5f9e0c47215e",
   "metadata": {},
   "outputs": [],
   "source": [
    "results"
   ]
  }
 ],
 "metadata": {
  "kernelspec": {
   "display_name": "euro2024",
   "language": "python",
   "name": "euro2024"
  },
  "language_info": {
   "codemirror_mode": {
    "name": "ipython",
    "version": 3
   },
   "file_extension": ".py",
   "mimetype": "text/x-python",
   "name": "python",
   "nbconvert_exporter": "python",
   "pygments_lexer": "ipython3",
   "version": "3.11.8"
  }
 },
 "nbformat": 4,
 "nbformat_minor": 5
}
