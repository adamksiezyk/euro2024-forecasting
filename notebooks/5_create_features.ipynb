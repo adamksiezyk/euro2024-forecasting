{
 "cells": [
  {
   "cell_type": "code",
   "execution_count": 20,
   "id": "09b2e767-d006-4779-a52b-ef65a3bf1fc0",
   "metadata": {},
   "outputs": [],
   "source": [
    "import json\n",
    "import os\n",
    "import pandas as pd\n",
    "import unicodedata"
   ]
  },
  {
   "cell_type": "code",
   "execution_count": 17,
   "id": "9d0dfd30-0cdf-41cc-ba9d-4b592604a2d0",
   "metadata": {},
   "outputs": [
    {
     "data": {
      "text/html": [
       "<div>\n",
       "<style scoped>\n",
       "    .dataframe tbody tr th:only-of-type {\n",
       "        vertical-align: middle;\n",
       "    }\n",
       "\n",
       "    .dataframe tbody tr th {\n",
       "        vertical-align: top;\n",
       "    }\n",
       "\n",
       "    .dataframe thead th {\n",
       "        text-align: right;\n",
       "    }\n",
       "</style>\n",
       "<table border=\"1\" class=\"dataframe\">\n",
       "  <thead>\n",
       "    <tr style=\"text-align: right;\">\n",
       "      <th></th>\n",
       "      <th>player_1</th>\n",
       "      <th>player_2</th>\n",
       "      <th>player_3</th>\n",
       "      <th>player_4</th>\n",
       "      <th>player_5</th>\n",
       "      <th>player_6</th>\n",
       "      <th>player_7</th>\n",
       "      <th>player_8</th>\n",
       "      <th>player_9</th>\n",
       "      <th>player_10</th>\n",
       "      <th>...</th>\n",
       "      <th>goalkeeper_saves</th>\n",
       "      <th>fouls</th>\n",
       "      <th>yellow_cards</th>\n",
       "      <th>total_passes</th>\n",
       "      <th>completed_passes</th>\n",
       "      <th>tackles</th>\n",
       "      <th>attacks</th>\n",
       "      <th>dangerous_attacks</th>\n",
       "      <th>crosses_completed</th>\n",
       "      <th>goals</th>\n",
       "    </tr>\n",
       "  </thead>\n",
       "  <tbody>\n",
       "    <tr>\n",
       "      <th>poland</th>\n",
       "      <td>bednarek j.</td>\n",
       "      <td>bochniewicz p.</td>\n",
       "      <td>frankowski p.</td>\n",
       "      <td>kiwior j.</td>\n",
       "      <td>lewandowski r.</td>\n",
       "      <td>piotrowski j.</td>\n",
       "      <td>slisz b.</td>\n",
       "      <td>swiderski k.</td>\n",
       "      <td>szczesny w.</td>\n",
       "      <td>szymanski d.</td>\n",
       "      <td>...</td>\n",
       "      <td>2.0</td>\n",
       "      <td>12.0</td>\n",
       "      <td>1.0</td>\n",
       "      <td>553.0</td>\n",
       "      <td>458.0</td>\n",
       "      <td>20.0</td>\n",
       "      <td>111.0</td>\n",
       "      <td>54.0</td>\n",
       "      <td>6.0</td>\n",
       "      <td>1</td>\n",
       "    </tr>\n",
       "    <tr>\n",
       "      <th>czech republic</th>\n",
       "      <td>brabec j.</td>\n",
       "      <td>chytil m.</td>\n",
       "      <td>coufal v.</td>\n",
       "      <td>doudera d.</td>\n",
       "      <td>holes t.</td>\n",
       "      <td>kuchta j.</td>\n",
       "      <td>provod l.</td>\n",
       "      <td>sadilek m.</td>\n",
       "      <td>soucek t.</td>\n",
       "      <td>stanek j.</td>\n",
       "      <td>...</td>\n",
       "      <td>4.0</td>\n",
       "      <td>10.0</td>\n",
       "      <td>1.0</td>\n",
       "      <td>361.0</td>\n",
       "      <td>265.0</td>\n",
       "      <td>12.0</td>\n",
       "      <td>103.0</td>\n",
       "      <td>44.0</td>\n",
       "      <td>4.0</td>\n",
       "      <td>1</td>\n",
       "    </tr>\n",
       "  </tbody>\n",
       "</table>\n",
       "<p>2 rows × 30 columns</p>\n",
       "</div>"
      ],
      "text/plain": [
       "                   player_1        player_2       player_3    player_4  \\\n",
       "poland          bednarek j.  bochniewicz p.  frankowski p.   kiwior j.   \n",
       "czech republic    brabec j.       chytil m.      coufal v.  doudera d.   \n",
       "\n",
       "                      player_5       player_6   player_7      player_8  \\\n",
       "poland          lewandowski r.  piotrowski j.   slisz b.  swiderski k.   \n",
       "czech republic        holes t.      kuchta j.  provod l.    sadilek m.   \n",
       "\n",
       "                   player_9     player_10  ... goalkeeper_saves  fouls  \\\n",
       "poland          szczesny w.  szymanski d.  ...              2.0   12.0   \n",
       "czech republic    soucek t.     stanek j.  ...              4.0   10.0   \n",
       "\n",
       "                yellow_cards  total_passes  completed_passes  tackles  \\\n",
       "poland                   1.0         553.0             458.0     20.0   \n",
       "czech republic           1.0         361.0             265.0     12.0   \n",
       "\n",
       "                attacks  dangerous_attacks  crosses_completed  goals  \n",
       "poland            111.0               54.0                6.0      1  \n",
       "czech republic    103.0               44.0                4.0      1  \n",
       "\n",
       "[2 rows x 30 columns]"
      ]
     },
     "execution_count": 17,
     "metadata": {},
     "output_type": "execute_result"
    }
   ],
   "source": [
    "MATCH_DATA_FILE = \"match_data.csv\"\n",
    "SUMMARY_FILE = \"summary.json\"\n",
    "\n",
    "input_dir = \"../data/raw/\"\n",
    "all_dirs = os.listdir(input_dir)\n",
    "\n",
    "csv_file = os.path.join(input_dir, all_dirs[0], MATCH_DATA_FILE)\n",
    "json_file = os.path.join(input_dir, all_dirs[0], SUMMARY_FILE)\n",
    "df = pd.read_csv(csv_file, index_col=0)\n",
    "df"
   ]
  },
  {
   "cell_type": "code",
   "execution_count": 18,
   "id": "6ef5c650-253f-4070-82c1-c4d1b8f16449",
   "metadata": {},
   "outputs": [
    {
     "data": {
      "text/plain": [
       "{'teams': ['poland', 'czech republic'],\n",
       " 'datetime': '2023-11-17T21:45:00',\n",
       " 'poland': {'goals': [[38, 'piotrowski j.', None]],\n",
       "  'substitutions': [[46, 'buksa a.', 'swiderski k.'],\n",
       "   [58, 'peda p.', 'bochniewicz p.'],\n",
       "   [73, 'grosicki k.', 'szymanski d.'],\n",
       "   [85, 'szymanski s.', 'peda p.']],\n",
       "  'yellow_cards': [[36, 'bochniewicz p.']],\n",
       "  'red_cards': []},\n",
       " 'czech republic': {'goals': [[49, 'soucek t.', None]],\n",
       "  'substitutions': [[46, 'cvancara t.', 'chytil m.'],\n",
       "   [46, 'hlozek a.', 'kuchta j.'],\n",
       "   [75, 'lingr o.', 'provod l.'],\n",
       "   [91, 'kral a.', 'sadilek m.']],\n",
       "  'yellow_cards': [[63, 'brabec j.']],\n",
       "  'red_cards': []}}"
      ]
     },
     "execution_count": 18,
     "metadata": {},
     "output_type": "execute_result"
    }
   ],
   "source": [
    "with open(json_file, \"r\") as f:\n",
    "    summary = json.load(f)\n",
    "summary"
   ]
  },
  {
   "cell_type": "code",
   "execution_count": 19,
   "id": "1f89b114-04cd-4d9e-893b-249f685e7c90",
   "metadata": {},
   "outputs": [
    {
     "data": {
      "text/plain": [
       "player_1              brabec j.\n",
       "player_2              chytil m.\n",
       "player_3              coufal v.\n",
       "player_4             doudera d.\n",
       "player_5               holes t.\n",
       "player_6              kuchta j.\n",
       "player_7              provod l.\n",
       "player_8             sadilek m.\n",
       "player_9              soucek t.\n",
       "player_10             stanek j.\n",
       "player_11               zima d.\n",
       "expected_goals             1.32\n",
       "ball_possession            43.0\n",
       "goal_attempts              15.0\n",
       "shots_on_goal               3.0\n",
       "shots_off_goal              9.0\n",
       "blocked_shots               3.0\n",
       "free_kicks                 16.0\n",
       "corner_kicks                3.0\n",
       "offsides                    0.0\n",
       "goalkeeper_saves            4.0\n",
       "fouls                      10.0\n",
       "yellow_cards                1.0\n",
       "total_passes              361.0\n",
       "completed_passes          265.0\n",
       "tackles                    12.0\n",
       "attacks                   103.0\n",
       "dangerous_attacks          44.0\n",
       "crosses_completed           4.0\n",
       "goals                         1\n",
       "Name: czech republic, dtype: object"
      ]
     },
     "execution_count": 19,
     "metadata": {},
     "output_type": "execute_result"
    }
   ],
   "source": [
    "df.iloc[1, :]"
   ]
  },
  {
   "cell_type": "code",
   "execution_count": 39,
   "id": "714c2e6e-cebf-4545-bfe3-dc1631e02fa1",
   "metadata": {},
   "outputs": [
    {
     "data": {
      "text/plain": [
       "['wojciech szczesny',\n",
       " 'ukasz skorupski',\n",
       " 'marcin buka',\n",
       " 'bartosz salamon',\n",
       " 'pawe dawidowicz',\n",
       " 'sebastian walukiewicz',\n",
       " 'jan bednarek',\n",
       " 'jakub kiwior',\n",
       " 'tymoteusz puchacz',\n",
       " 'bartosz bereszynski',\n",
       " 'jakub piotrowski',\n",
       " 'jakub moder',\n",
       " 'piotr zielinski',\n",
       " 'kamil grosicki',\n",
       " 'taras romanczuk',\n",
       " 'damian szymanski',\n",
       " 'przemysaw frankowski',\n",
       " 'sebastian szymanski',\n",
       " 'nicola zalewski',\n",
       " 'bartosz slisz',\n",
       " 'micha skoras',\n",
       " 'kacper urbanski',\n",
       " 'karol swiderski',\n",
       " 'robert lewandowski',\n",
       " 'adam buksa',\n",
       " 'krzysztof piatek']"
      ]
     },
     "execution_count": 39,
     "metadata": {},
     "output_type": "execute_result"
    }
   ],
   "source": [
    "SKIP_FIRST = 5\n",
    "SKIP_LAST = 1\n",
    "squad_dir = \"../data/squads/\"\n",
    "first_squad = []\n",
    "with open(os.path.join(squad_dir, df.index[0]) + \".txt\", \"r\") as f:\n",
    "    for _ in range(SKIP_FIRST):\n",
    "        _ = next(f)\n",
    "    for line in f:\n",
    "        if not line.isspace():\n",
    "            player = line.split(',')[1].strip().lower()\n",
    "            player = unicodedata.normalize('NFKD', player).encode('ascii', 'ignore').decode()\n",
    "            first_squad.append(player)\n",
    "first_squad"
   ]
  },
  {
   "cell_type": "code",
   "execution_count": null,
   "id": "2c22186f-f563-4fca-a45d-69b235180efd",
   "metadata": {},
   "outputs": [],
   "source": [
    "\n"
   ]
  }
 ],
 "metadata": {
  "kernelspec": {
   "display_name": "Python 3 (ipykernel)",
   "language": "python",
   "name": "python3"
  },
  "language_info": {
   "codemirror_mode": {
    "name": "ipython",
    "version": 3
   },
   "file_extension": ".py",
   "mimetype": "text/x-python",
   "name": "python",
   "nbconvert_exporter": "python",
   "pygments_lexer": "ipython3",
   "version": "3.11.7"
  }
 },
 "nbformat": 4,
 "nbformat_minor": 5
}
