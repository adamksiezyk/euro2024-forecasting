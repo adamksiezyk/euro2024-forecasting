{
 "cells": [
  {
   "cell_type": "code",
   "execution_count": 1,
   "id": "95b4e860-17ff-4c39-8e4a-8f653fd391e5",
   "metadata": {},
   "outputs": [],
   "source": [
    "import bs4\n",
    "import pandas as pd\n",
    "import re\n",
    "import requests\n",
    "\n",
    "from typing import Any"
   ]
  },
  {
   "cell_type": "code",
   "execution_count": 2,
   "id": "f4a4ec48-c95c-44ee-8143-40bb0d464d56",
   "metadata": {},
   "outputs": [],
   "source": [
    "res = requests.get(\"https://www.flashscore.mobi/match/f3eqDO5s\")"
   ]
  },
  {
   "cell_type": "code",
   "execution_count": 3,
   "id": "64c19e6b-e629-46d4-82fe-33c644790897",
   "metadata": {},
   "outputs": [],
   "source": [
    "soup = bs4.BeautifulSoup(res.text)"
   ]
  },
  {
   "cell_type": "code",
   "execution_count": 4,
   "id": "eaa36d9f-20e9-4f28-af52-f5a2b4bdbb06",
   "metadata": {},
   "outputs": [],
   "source": [
    "teams = [t.strip().lower() for t in soup.find(\"h3\").text.split('-')]\n",
    "assert len(teams) == 2"
   ]
  },
  {
   "cell_type": "code",
   "execution_count": 5,
   "id": "48a0aa03-b90a-43d0-92f1-17e495adb33f",
   "metadata": {},
   "outputs": [
    {
     "data": {
      "text/plain": [
       "['germany', 'greece']"
      ]
     },
     "execution_count": 5,
     "metadata": {},
     "output_type": "execute_result"
    }
   ],
   "source": [
    "teams"
   ]
  },
  {
   "cell_type": "markdown",
   "id": "419ef6bd-1662-49e3-8bdb-ad12756b6faa",
   "metadata": {},
   "source": [
    "### Datetime"
   ]
  },
  {
   "cell_type": "code",
   "execution_count": 6,
   "id": "1a7fe5da-a4e0-435c-8e59-b2ddfc2e262c",
   "metadata": {},
   "outputs": [
    {
     "data": {
      "text/plain": [
       "Timestamp('2024-06-07 20:45:00')"
      ]
     },
     "execution_count": 6,
     "metadata": {},
     "output_type": "execute_result"
    }
   ],
   "source": [
    "pd.to_datetime(soup.find_all(class_=\"detail\")[2].text, dayfirst=True)"
   ]
  },
  {
   "cell_type": "markdown",
   "id": "8bafbe97-e24e-48dd-ae43-60d04fd1bfae",
   "metadata": {},
   "source": [
    "### Summary"
   ]
  },
  {
   "cell_type": "code",
   "execution_count": 7,
   "id": "abd6bb9b-bf38-41ce-8737-a36d401e70e0",
   "metadata": {},
   "outputs": [],
   "source": [
    "team_pattern = re.compile(r\"\\[(\\w+)\\]\")\n",
    "assistant_pattern = re.compile(r\"\\(([\\w\\.\\s]+)\\)\")"
   ]
  },
  {
   "cell_type": "code",
   "execution_count": 8,
   "id": "9320757b-58d2-48e2-938a-d9887cdfbe95",
   "metadata": {},
   "outputs": [],
   "source": [
    "def parse_summary(teams: tuple[str, str], summary: bs4.BeautifulSoup) -> tuple[dict[str, Any]]:\n",
    "    first_team = {\n",
    "        'goals': [],\n",
    "        'substitutions': [],\n",
    "        'yellow_cards': [],\n",
    "        'red_cards': [],\n",
    "    }\n",
    "    second_team = {\n",
    "        'goals': [],\n",
    "        'substitutions': [],\n",
    "        'yellow_cards': [],\n",
    "        'red_cards': [],\n",
    "    }\n",
    "\n",
    "    for incident in summary.find_all(class_=\"incident soccer\"):\n",
    "        time = int(incident.find(class_=\"time\").text.removesuffix(\"'\"))\n",
    "        text = incident.find_all(string=True, recursive=False)[-1]\n",
    "        team = team_pattern.findall(text)\n",
    "        assert team\n",
    "        team = team[0].strip().lower()\n",
    "        if teams[0].startswith(team):\n",
    "            current_team = first_team\n",
    "        elif teams[1].startswith(team):\n",
    "            current_team = second_team\n",
    "        else:\n",
    "            raise RuntimeError(f\"Team {team!r} not foung among {first_team!r} and {second_team!r}\")\n",
    "\n",
    "        if incident.find(class_=\"i-field icon ball\"):\n",
    "            scorer = assistant_pattern.sub('', team_pattern.sub('', text)).strip().lower()\n",
    "            if assistant := assistant_pattern.findall(text):\n",
    "                assistant = assistant[0].strip().lower()\n",
    "            else:\n",
    "                assistant = None\n",
    "            current_team['goals'].append((time, scorer, assistant))\n",
    "        elif incident.find(class_=\"i-field icon substitution\"):\n",
    "            sub_in = incident.find_all(string=True, recursive=False)[0].strip().lower()\n",
    "            sub_out = incident.find(class_=\"substitution-out\").text.removeprefix('(').removesuffix(')').strip().lower()\n",
    "            current_team['substitutions'].append((time, sub_in, sub_out))\n",
    "        elif incident.find(class_=\"i-field icon y-card\"):\n",
    "            player = team_pattern.sub('', text).strip().lower()\n",
    "            current_team['yellow_cards'].append((time, player))\n",
    "        elif incident.find(class_=\"i-field icon r-card\"):\n",
    "            player = team_pattern.sub('', text).strip().lower()\n",
    "            current_team['red_cards'].append((time, player))\n",
    "\n",
    "    return first_team, second_team"
   ]
  },
  {
   "cell_type": "code",
   "execution_count": 9,
   "id": "26455b66-d495-49d6-9b29-8c9012f4dc68",
   "metadata": {},
   "outputs": [],
   "source": [
    "summary = soup.find(id=\"detail-tab-content\")\n",
    "incidents = parse_summary(teams, summary)"
   ]
  },
  {
   "cell_type": "code",
   "execution_count": 10,
   "id": "28f3b7a2-761a-4e8a-8cb8-5e1f2d5000c7",
   "metadata": {},
   "outputs": [
    {
     "data": {
      "text/plain": [
       "({'goals': [(56, 'havertz k.', 'sane l.'), (89, 'gross p. ()', None)],\n",
       "  'substitutions': [(46, 'raum d.', 'mittelstadt m.'),\n",
       "   (46, 'sane l.', 'wirtz f.'),\n",
       "   (68, 'fullkrug n.', 'gundogan i.'),\n",
       "   (68, 'henrichs b.', 'kimmich j.'),\n",
       "   (68, 'gross p.', 'andrich r.'),\n",
       "   (69, 'schlotterbeck n.', 'rudiger a.')],\n",
       "  'yellow_cards': [],\n",
       "  'red_cards': []},\n",
       " {'goals': [(33, 'masouras g.', None)],\n",
       "  'substitutions': [(10, 'pavlidis v.', 'ioannidis f.'),\n",
       "   (68, 'douvikas a.', 'masouras g.'),\n",
       "   (68, 'bouchalakis a.', 'bakasetas a.'),\n",
       "   (78, 'athanasiadis g.', 'vlachodimos o.'),\n",
       "   (78, 'kourbelis d.', 'mantalos p.')],\n",
       "  'yellow_cards': [(80, 'giannoulis d.')],\n",
       "  'red_cards': []})"
      ]
     },
     "execution_count": 10,
     "metadata": {},
     "output_type": "execute_result"
    }
   ],
   "source": [
    "incidents"
   ]
  }
 ],
 "metadata": {
  "kernelspec": {
   "display_name": "euro2024",
   "language": "python",
   "name": "euro2024"
  },
  "language_info": {
   "codemirror_mode": {
    "name": "ipython",
    "version": 3
   },
   "file_extension": ".py",
   "mimetype": "text/x-python",
   "name": "python",
   "nbconvert_exporter": "python",
   "pygments_lexer": "ipython3",
   "version": "3.11.8"
  }
 },
 "nbformat": 4,
 "nbformat_minor": 5
}
