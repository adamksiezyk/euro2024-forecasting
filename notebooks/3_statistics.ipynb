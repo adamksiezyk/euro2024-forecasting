{
 "cells": [
  {
   "cell_type": "code",
   "execution_count": 1,
   "id": "9c72e034-124b-4147-b94c-09acaa2940d8",
   "metadata": {},
   "outputs": [],
   "source": [
    "import bs4\n",
    "import pandas as pd\n",
    "import requests"
   ]
  },
  {
   "cell_type": "code",
   "execution_count": 2,
   "id": "a5a346e8-623b-4612-b49d-41b4c5b00d32",
   "metadata": {},
   "outputs": [],
   "source": [
    "res = requests.get(\"https://www.flashscore.mobi/match/f3eqDO5s/?t=match-statistics\")"
   ]
  },
  {
   "cell_type": "code",
   "execution_count": 3,
   "id": "ab36cda6-6d7c-40e4-89a0-b487298c006a",
   "metadata": {},
   "outputs": [],
   "source": [
    "soup = bs4.BeautifulSoup(res.text)"
   ]
  },
  {
   "cell_type": "markdown",
   "id": "3e325f73-bd85-457e-8d14-c1eed9918fc1",
   "metadata": {},
   "source": [
    "### Teams"
   ]
  },
  {
   "cell_type": "code",
   "execution_count": 4,
   "id": "ca72fdd3-9539-41a9-81d8-c50751b92438",
   "metadata": {},
   "outputs": [],
   "source": [
    "teams = [t.strip().lower() for t in soup.find(\"h3\").text.split('-')]\n",
    "assert len(teams) == 2"
   ]
  },
  {
   "cell_type": "code",
   "execution_count": 5,
   "id": "8513a09f-b624-4d7d-9c33-5df85d0e072b",
   "metadata": {},
   "outputs": [
    {
     "data": {
      "text/plain": [
       "['germany', 'greece']"
      ]
     },
     "execution_count": 5,
     "metadata": {},
     "output_type": "execute_result"
    }
   ],
   "source": [
    "teams"
   ]
  },
  {
   "cell_type": "markdown",
   "id": "8c33d6f9-6255-4b73-a17d-d3dacbf45a6c",
   "metadata": {},
   "source": [
    "### Datetime"
   ]
  },
  {
   "cell_type": "code",
   "execution_count": 6,
   "id": "2a72b96c-1b4f-4e43-bb3f-35c1d1545c1a",
   "metadata": {},
   "outputs": [
    {
     "data": {
      "text/plain": [
       "Timestamp('2024-06-07 20:45:00')"
      ]
     },
     "execution_count": 6,
     "metadata": {},
     "output_type": "execute_result"
    }
   ],
   "source": [
    "pd.to_datetime(soup.find_all(class_=\"detail\")[-1].text, dayfirst=True)"
   ]
  },
  {
   "cell_type": "markdown",
   "id": "a386ac65-1fad-425b-b163-7007af006f6a",
   "metadata": {},
   "source": [
    "### Goals"
   ]
  },
  {
   "cell_type": "code",
   "execution_count": 7,
   "id": "9855896a-3561-482d-bb00-b401f68a1059",
   "metadata": {},
   "outputs": [],
   "source": [
    "goals = [int(g) for g in soup.find(class_=\"detail\").find('b').text.split(':')]"
   ]
  },
  {
   "cell_type": "code",
   "execution_count": 8,
   "id": "adff0575-f3df-4932-a103-b945c7cbe975",
   "metadata": {},
   "outputs": [
    {
     "data": {
      "text/plain": [
       "[2, 1]"
      ]
     },
     "execution_count": 8,
     "metadata": {},
     "output_type": "execute_result"
    }
   ],
   "source": [
    "goals"
   ]
  },
  {
   "cell_type": "markdown",
   "id": "9c57011f-90a6-41f9-b128-87e3a644b06a",
   "metadata": {},
   "source": [
    "### Statistics"
   ]
  },
  {
   "cell_type": "code",
   "execution_count": 9,
   "id": "99ca2589-c7c6-466f-8457-fab904026261",
   "metadata": {},
   "outputs": [],
   "source": [
    "def parse_statistics_row(row: bs4.BeautifulSoup) -> tuple[str, tuple[float, float]]:\n",
    "    values = [col.text for col in row.find_next().children]\n",
    "    assert len(values) == 3    \n",
    "    first_value = float(values[0].removesuffix('%'))\n",
    "    name = values[1].lower().removesuffix('(xg)').strip().replace(' ', '_')\n",
    "    second_value = float(values[2].removesuffix('%'))\n",
    "    return name, (first_value, second_value)"
   ]
  },
  {
   "cell_type": "code",
   "execution_count": 10,
   "id": "522229ea-8708-4fa8-af5a-48a5931d26b9",
   "metadata": {},
   "outputs": [],
   "source": [
    "statistics_rows = soup.find(id=\"statistics-mobi\").find_all(\"div\", class_=\"statisticsMobi\")\n",
    "statistics = dict(map(parse_statistics_row, statistics_rows))"
   ]
  },
  {
   "cell_type": "code",
   "execution_count": 11,
   "id": "8ae54dbf-e26b-4d78-8848-c09af8a989ed",
   "metadata": {},
   "outputs": [
    {
     "data": {
      "text/plain": [
       "{'expected_goals': (0.78, 2.21),\n",
       " 'ball_possession': (64.0, 36.0),\n",
       " 'goal_attempts': (15.0, 12.0),\n",
       " 'shots_on_goal': (7.0, 6.0),\n",
       " 'shots_off_goal': (6.0, 2.0),\n",
       " 'blocked_shots': (2.0, 4.0),\n",
       " 'free_kicks': (15.0, 14.0),\n",
       " 'corner_kicks': (13.0, 3.0),\n",
       " 'offsides': (3.0, 2.0),\n",
       " 'goalkeeper_saves': (5.0, 5.0),\n",
       " 'fouls': (11.0, 13.0),\n",
       " 'yellow_cards': (0.0, 1.0),\n",
       " 'total_passes': (678.0, 297.0),\n",
       " 'completed_passes': (616.0, 237.0),\n",
       " 'tackles': (5.0, 13.0),\n",
       " 'attacks': (131.0, 66.0),\n",
       " 'dangerous_attacks': (59.0, 34.0),\n",
       " 'crosses_completed': (5.0, 3.0)}"
      ]
     },
     "execution_count": 11,
     "metadata": {},
     "output_type": "execute_result"
    }
   ],
   "source": [
    "statistics"
   ]
  },
  {
   "cell_type": "markdown",
   "id": "7c41286f-b1e6-44fb-bb09-c3cd067e6340",
   "metadata": {},
   "source": [
    "### DataFrame"
   ]
  },
  {
   "cell_type": "code",
   "execution_count": 12,
   "id": "06968dfb-f857-4b34-85ce-1a3cdbcebb50",
   "metadata": {},
   "outputs": [
    {
     "data": {
      "text/html": [
       "<div>\n",
       "<style scoped>\n",
       "    .dataframe tbody tr th:only-of-type {\n",
       "        vertical-align: middle;\n",
       "    }\n",
       "\n",
       "    .dataframe tbody tr th {\n",
       "        vertical-align: top;\n",
       "    }\n",
       "\n",
       "    .dataframe thead th {\n",
       "        text-align: right;\n",
       "    }\n",
       "</style>\n",
       "<table border=\"1\" class=\"dataframe\">\n",
       "  <thead>\n",
       "    <tr style=\"text-align: right;\">\n",
       "      <th></th>\n",
       "      <th>expected_goals</th>\n",
       "      <th>ball_possession</th>\n",
       "      <th>goal_attempts</th>\n",
       "      <th>shots_on_goal</th>\n",
       "      <th>shots_off_goal</th>\n",
       "      <th>blocked_shots</th>\n",
       "      <th>free_kicks</th>\n",
       "      <th>corner_kicks</th>\n",
       "      <th>offsides</th>\n",
       "      <th>goalkeeper_saves</th>\n",
       "      <th>fouls</th>\n",
       "      <th>yellow_cards</th>\n",
       "      <th>total_passes</th>\n",
       "      <th>completed_passes</th>\n",
       "      <th>tackles</th>\n",
       "      <th>attacks</th>\n",
       "      <th>dangerous_attacks</th>\n",
       "      <th>crosses_completed</th>\n",
       "      <th>goals</th>\n",
       "    </tr>\n",
       "  </thead>\n",
       "  <tbody>\n",
       "    <tr>\n",
       "      <th>germany</th>\n",
       "      <td>0.78</td>\n",
       "      <td>64.0</td>\n",
       "      <td>15.0</td>\n",
       "      <td>7.0</td>\n",
       "      <td>6.0</td>\n",
       "      <td>2.0</td>\n",
       "      <td>15.0</td>\n",
       "      <td>13.0</td>\n",
       "      <td>3.0</td>\n",
       "      <td>5.0</td>\n",
       "      <td>11.0</td>\n",
       "      <td>0.0</td>\n",
       "      <td>678.0</td>\n",
       "      <td>616.0</td>\n",
       "      <td>5.0</td>\n",
       "      <td>131.0</td>\n",
       "      <td>59.0</td>\n",
       "      <td>5.0</td>\n",
       "      <td>2</td>\n",
       "    </tr>\n",
       "    <tr>\n",
       "      <th>greece</th>\n",
       "      <td>2.21</td>\n",
       "      <td>36.0</td>\n",
       "      <td>12.0</td>\n",
       "      <td>6.0</td>\n",
       "      <td>2.0</td>\n",
       "      <td>4.0</td>\n",
       "      <td>14.0</td>\n",
       "      <td>3.0</td>\n",
       "      <td>2.0</td>\n",
       "      <td>5.0</td>\n",
       "      <td>13.0</td>\n",
       "      <td>1.0</td>\n",
       "      <td>297.0</td>\n",
       "      <td>237.0</td>\n",
       "      <td>13.0</td>\n",
       "      <td>66.0</td>\n",
       "      <td>34.0</td>\n",
       "      <td>3.0</td>\n",
       "      <td>1</td>\n",
       "    </tr>\n",
       "  </tbody>\n",
       "</table>\n",
       "</div>"
      ],
      "text/plain": [
       "         expected_goals  ball_possession  goal_attempts  shots_on_goal  \\\n",
       "germany            0.78             64.0           15.0            7.0   \n",
       "greece             2.21             36.0           12.0            6.0   \n",
       "\n",
       "         shots_off_goal  blocked_shots  free_kicks  corner_kicks  offsides  \\\n",
       "germany             6.0            2.0        15.0          13.0       3.0   \n",
       "greece              2.0            4.0        14.0           3.0       2.0   \n",
       "\n",
       "         goalkeeper_saves  fouls  yellow_cards  total_passes  \\\n",
       "germany               5.0   11.0           0.0         678.0   \n",
       "greece                5.0   13.0           1.0         297.0   \n",
       "\n",
       "         completed_passes  tackles  attacks  dangerous_attacks  \\\n",
       "germany             616.0      5.0    131.0               59.0   \n",
       "greece              237.0     13.0     66.0               34.0   \n",
       "\n",
       "         crosses_completed  goals  \n",
       "germany                5.0      2  \n",
       "greece                 3.0      1  "
      ]
     },
     "execution_count": 12,
     "metadata": {},
     "output_type": "execute_result"
    }
   ],
   "source": [
    "df = pd.DataFrame(statistics, index=teams)\n",
    "df['goals'] = goals\n",
    "df"
   ]
  }
 ],
 "metadata": {
  "kernelspec": {
   "display_name": "euro2024",
   "language": "python",
   "name": "euro2024"
  },
  "language_info": {
   "codemirror_mode": {
    "name": "ipython",
    "version": 3
   },
   "file_extension": ".py",
   "mimetype": "text/x-python",
   "name": "python",
   "nbconvert_exporter": "python",
   "pygments_lexer": "ipython3",
   "version": "3.11.8"
  }
 },
 "nbformat": 4,
 "nbformat_minor": 5
}
