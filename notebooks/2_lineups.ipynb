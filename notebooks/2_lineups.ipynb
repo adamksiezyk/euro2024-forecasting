{
 "cells": [
  {
   "cell_type": "code",
   "execution_count": 1,
   "id": "9837186e-4792-4774-8942-4e192ceec738",
   "metadata": {},
   "outputs": [],
   "source": [
    "import bs4\n",
    "import requests"
   ]
  },
  {
   "cell_type": "code",
   "execution_count": 2,
   "id": "fe1dbd21-185f-47ff-ae95-8100d444df34",
   "metadata": {},
   "outputs": [],
   "source": [
    "res = requests.get(\"https://www.flashscore.mobi/match/f3eqDO5s/?t=lineups\")"
   ]
  },
  {
   "cell_type": "code",
   "execution_count": 3,
   "id": "09bbc6f3-77d8-4097-bcd5-4628931e1890",
   "metadata": {},
   "outputs": [],
   "source": [
    "soup = bs4.BeautifulSoup(res.text)"
   ]
  },
  {
   "cell_type": "code",
   "execution_count": 4,
   "id": "7a6bd5c3-f7b5-4e91-8d33-0fc4b0d5e48f",
   "metadata": {},
   "outputs": [],
   "source": [
    "container = soup.find(id=\"detail-tab-content\")"
   ]
  },
  {
   "cell_type": "markdown",
   "id": "5cf5b0a5-b6a4-4359-b857-cf86fd4838ef",
   "metadata": {},
   "source": [
    "### Teams"
   ]
  },
  {
   "cell_type": "code",
   "execution_count": 5,
   "id": "17158752-adad-4973-a8f4-b95a08490377",
   "metadata": {},
   "outputs": [],
   "source": [
    "teams = [t.text.lower().strip() for t in soup.find_all(\"h4\")]\n",
    "assert len(teams) == 2"
   ]
  },
  {
   "cell_type": "code",
   "execution_count": 6,
   "id": "62a6c8c0-0d93-4e96-9dac-734d7955790c",
   "metadata": {},
   "outputs": [
    {
     "data": {
      "text/plain": [
       "['germany', 'greece']"
      ]
     },
     "execution_count": 6,
     "metadata": {},
     "output_type": "execute_result"
    }
   ],
   "source": [
    "teams"
   ]
  },
  {
   "cell_type": "markdown",
   "id": "143dead8-70e3-41b1-8bc0-bfc7741ee8c6",
   "metadata": {},
   "source": [
    "### Lineups"
   ]
  },
  {
   "cell_type": "code",
   "execution_count": 7,
   "id": "129fe336-9ec6-484f-ac8e-2df6cae31d32",
   "metadata": {},
   "outputs": [],
   "source": [
    "def parse_lineup_table(table: bs4.BeautifulSoup) -> list[str]:\n",
    "    players = table.find_all(\"td\", class_=None)\n",
    "    # assert len(players) == 11\n",
    "    return [p.text.lower().removesuffix('(g)').strip() for p in players]"
   ]
  },
  {
   "cell_type": "code",
   "execution_count": 8,
   "id": "28e0c4aa-8588-4ab8-8ad4-1e98bb638f36",
   "metadata": {},
   "outputs": [],
   "source": [
    "lineups = soup.find_all(class_=\"lineup\")\n",
    "assert len(lineups) == 4\n",
    "lineups = list(map(parse_lineup_table, lineups))"
   ]
  },
  {
   "cell_type": "code",
   "execution_count": 9,
   "id": "eb00384f-940e-43b7-b276-08512ffed59b",
   "metadata": {},
   "outputs": [
    {
     "data": {
      "text/plain": [
       "[['andrich r.',\n",
       "  'gundogan i.',\n",
       "  'havertz k.',\n",
       "  'kimmich j.',\n",
       "  'kroos t.',\n",
       "  'mittelstadt m.',\n",
       "  'musiala j.',\n",
       "  'neuer m.',\n",
       "  'rudiger a.',\n",
       "  'tah j.',\n",
       "  'wirtz f.'],\n",
       " ['baumann o.',\n",
       "  'ter stegen m.',\n",
       "  'anton w.',\n",
       "  'beier m.',\n",
       "  'fuhrich c.',\n",
       "  'fullkrug n.',\n",
       "  'gross p.',\n",
       "  'henrichs b.',\n",
       "  'koch r.',\n",
       "  'muller t.',\n",
       "  'pavlovic a.',\n",
       "  'raum d.',\n",
       "  'sane l.',\n",
       "  'schlotterbeck n.',\n",
       "  'undav d.'],\n",
       " ['bakasetas a.',\n",
       "  'giannoulis d.',\n",
       "  'hatzidiakos p.',\n",
       "  'ioannidis f.',\n",
       "  'mantalos p.',\n",
       "  'masouras g.',\n",
       "  'mavropanos k.',\n",
       "  'rota l.',\n",
       "  'siopis m.',\n",
       "  'tzolis c.',\n",
       "  'vlachodimos o.'],\n",
       " ['athanasiadis g.',\n",
       "  'mandas c.',\n",
       "  'tzolakis k.',\n",
       "  'bouchalakis a.',\n",
       "  'douvikas a.',\n",
       "  'kotsiras g.',\n",
       "  'koulierakis k.',\n",
       "  'kourbelis d.',\n",
       "  'kyriakopoulos g.',\n",
       "  'limnios d.',\n",
       "  'ntoi a.',\n",
       "  'pavlidis v.',\n",
       "  'retsos p.',\n",
       "  'saliakas m.',\n",
       "  'tsingaras t.']]"
      ]
     },
     "execution_count": 9,
     "metadata": {},
     "output_type": "execute_result"
    }
   ],
   "source": [
    "lineups"
   ]
  }
 ],
 "metadata": {
  "kernelspec": {
   "display_name": "euro2024",
   "language": "python",
   "name": "euro2024"
  },
  "language_info": {
   "codemirror_mode": {
    "name": "ipython",
    "version": 3
   },
   "file_extension": ".py",
   "mimetype": "text/x-python",
   "name": "python",
   "nbconvert_exporter": "python",
   "pygments_lexer": "ipython3",
   "version": "3.11.8"
  }
 },
 "nbformat": 4,
 "nbformat_minor": 5
}
